{
 "cells": [
  {
   "cell_type": "code",
   "execution_count": 1,
   "id": "33c1daf3",
   "metadata": {},
   "outputs": [],
   "source": [
    "import pandas as pd\n",
    "import numpy as np\n",
    "from decision_tree import DecisionTreeClassifier"
   ]
  },
  {
   "cell_type": "markdown",
   "id": "15d2d050",
   "metadata": {},
   "source": [
    "# DecisionTreeClassifier\n",
    "\n",
    "Creating a instance\n",
    "\n",
    "instance = DecisionTreeClassifier(class_label)\n",
    "\n",
    "param: class_labels(pd.Series) is a class label(y) for each point xj in D\n",
    "\n"
   ]
  },
  {
   "cell_type": "markdown",
   "id": "14c96df7",
   "metadata": {},
   "source": [
    "# Train method\n",
    "## train DecisionTreeClassifier with the given dataset and corresponding class labels. And can tweak purity thresholds and number of points theshold to control the leaf nodes\n",
    "\n",
    "split_pts_btree = instance.train(data_Set, class_labels, purity_thresholds)\n",
    "\n",
    "1. param: data_set(pd.DataFrame) is a data set without class labels. i.e. dataset with features\n",
    "2. param: class_labels(pd.Series) is a class label(y) for each point xj in D\n",
    "3. param: purity_threshold indicates that if max purity of D <= this threshold, then leaf node created\n",
    "4. param: num_pts_threshold(int, default=0) indicates that if |D| is >= this threshold, then leaf node created\n",
    "5. return BinaryTree containing split points in the order of Depth-First"
   ]
  },
  {
   "cell_type": "markdown",
   "id": "e916f90b",
   "metadata": {},
   "source": [
    "# Predict method\n",
    "## predict a class of a data point x\n",
    "\n",
    "\n",
    "pred = instance.predict(x)\n",
    "\n",
    "1. param x: a data point (1D array/vector-like)\n",
    "2. return predicted class of x (str)"
   ]
  },
  {
   "cell_type": "code",
   "execution_count": 2,
   "id": "6681499e",
   "metadata": {},
   "outputs": [
    {
     "data": {
      "text/html": [
       "<div>\n",
       "<style scoped>\n",
       "    .dataframe tbody tr th:only-of-type {\n",
       "        vertical-align: middle;\n",
       "    }\n",
       "\n",
       "    .dataframe tbody tr th {\n",
       "        vertical-align: top;\n",
       "    }\n",
       "\n",
       "    .dataframe thead th {\n",
       "        text-align: right;\n",
       "    }\n",
       "</style>\n",
       "<table border=\"1\" class=\"dataframe\">\n",
       "  <thead>\n",
       "    <tr style=\"text-align: right;\">\n",
       "      <th></th>\n",
       "      <th>Price</th>\n",
       "      <th>Chef</th>\n",
       "    </tr>\n",
       "  </thead>\n",
       "  <tbody>\n",
       "    <tr>\n",
       "      <th>0</th>\n",
       "      <td>10.0</td>\n",
       "      <td>A</td>\n",
       "    </tr>\n",
       "    <tr>\n",
       "      <th>1</th>\n",
       "      <td>10.0</td>\n",
       "      <td>A</td>\n",
       "    </tr>\n",
       "    <tr>\n",
       "      <th>2</th>\n",
       "      <td>20.0</td>\n",
       "      <td>A</td>\n",
       "    </tr>\n",
       "    <tr>\n",
       "      <th>3</th>\n",
       "      <td>10.0</td>\n",
       "      <td>B</td>\n",
       "    </tr>\n",
       "    <tr>\n",
       "      <th>4</th>\n",
       "      <td>10.0</td>\n",
       "      <td>B</td>\n",
       "    </tr>\n",
       "    <tr>\n",
       "      <th>5</th>\n",
       "      <td>10.0</td>\n",
       "      <td>B</td>\n",
       "    </tr>\n",
       "    <tr>\n",
       "      <th>6</th>\n",
       "      <td>20.0</td>\n",
       "      <td>B</td>\n",
       "    </tr>\n",
       "    <tr>\n",
       "      <th>7</th>\n",
       "      <td>20.0</td>\n",
       "      <td>B</td>\n",
       "    </tr>\n",
       "  </tbody>\n",
       "</table>\n",
       "</div>"
      ],
      "text/plain": [
       "   Price Chef\n",
       "0   10.0    A\n",
       "1   10.0    A\n",
       "2   20.0    A\n",
       "3   10.0    B\n",
       "4   10.0    B\n",
       "5   10.0    B\n",
       "6   20.0    B\n",
       "7   20.0    B"
      ]
     },
     "execution_count": 2,
     "metadata": {},
     "output_type": "execute_result"
    }
   ],
   "source": [
    "# Create a dataset\n",
    "price = [10., 10., 20., 10., 10., 10., 20., 20.]\n",
    "chef = ['A', 'A', 'A', 'B', 'B', 'B', 'B', 'B']\n",
    "class_quality = ['L', 'L', 'H', 'H', 'H', 'H', 'L', 'H']\n",
    "D = pd.DataFrame({'Price': price, 'Chef': chef})\n",
    "class_labels = pd.DataFrame({'Quality': class_quality})\n",
    "D"
   ]
  },
  {
   "cell_type": "code",
   "execution_count": 3,
   "id": "cc6a1f20",
   "metadata": {},
   "outputs": [
    {
     "name": "stdout",
     "output_type": "stream",
     "text": [
      "level 0.0\n",
      "Root: [('B', 1)]\n",
      "level 1.0\n",
      "Yes: [('H', -1)]\n",
      "No: [(10.0, 0)]\n",
      "level 2.0\n",
      "Yes: [None]\n",
      "No: [None]\n",
      "Yes: [('L', -1)]\n",
      "No: [('H', -1)]\n",
      "level 3\n",
      "Yes: [None]\n",
      "No: [None]\n",
      "Yes: [None]\n",
      "No: [None]\n"
     ]
    }
   ],
   "source": [
    "# instantiate decision tree classifier\n",
    "DTC = DecisionTreeClassifier(class_labels)\n",
    "DTC.train(D, class_labels, purity_threshold=0.75)\n",
    "if DTC.is_trained:\n",
    "    DTC.decision_tree.BFS_traverse(edge_labels=('Yes', 'No'))\n",
    "else:\n",
    "    print(\"Not Trained\")"
   ]
  },
  {
   "cell_type": "code",
   "execution_count": 4,
   "id": "077e291a",
   "metadata": {},
   "outputs": [
    {
     "name": "stdout",
     "output_type": "stream",
     "text": [
      "x: [15, 'A']\n",
      "Predicted class of x: H\n",
      "x: [9, 'A']\n",
      "Predicted class of x: L\n"
     ]
    }
   ],
   "source": [
    "# predict a class label of a random point\n",
    "x = []\n",
    "rand_arr = np.random.normal(0, 1, size=2)\n",
    "x.append(int(25 * np.abs(rand_arr[0])))\n",
    "x.append('A' if rand_arr[1] >= 0 else 'B')\n",
    "print(f\"x: {x}\")\n",
    "print(f\"Predicted class of x: {DTC.predict(x)}\")\n",
    "x = [9, 'A']\n",
    "print(f\"x: {x}\")\n",
    "print(f\"Predicted class of x: {DTC.predict(x)}\")"
   ]
  },
  {
   "cell_type": "code",
   "execution_count": null,
   "id": "ab8c8d89",
   "metadata": {},
   "outputs": [],
   "source": []
  }
 ],
 "metadata": {
  "kernelspec": {
   "display_name": "Python 3 (ipykernel)",
   "language": "python",
   "name": "python3"
  },
  "language_info": {
   "codemirror_mode": {
    "name": "ipython",
    "version": 3
   },
   "file_extension": ".py",
   "mimetype": "text/x-python",
   "name": "python",
   "nbconvert_exporter": "python",
   "pygments_lexer": "ipython3",
   "version": "3.9.18"
  }
 },
 "nbformat": 4,
 "nbformat_minor": 5
}
